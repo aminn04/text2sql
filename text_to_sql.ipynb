{
 "cells": [
  {
   "cell_type": "markdown",
   "id": "526c02b4",
   "metadata": {},
   "source": [
    "> Let's start with the golden question: why not keep it simple and use a standard text-to-SQL pipeline?\n",
    "\n",
    "A standard text-to-sql pipeline is brittle, since the generated SQL query can be incorrect. Even worse, the query could be incorrect, but not raise an error, instead giving some incorrect/useless outputs without raising an alarm.\n",
    "\n",
    "👉 Instead, an agent system is able to critically inspect outputs and decide if the query needs to be changed or not, thus giving it a huge performance boost.\n",
    "\n",
    "Let’s build this agent! 💪\n",
    "\n",
    "Run the line below to install required dependencies:"
   ]
  }
 ],
 "metadata": {
  "kernelspec": {
   "display_name": "text2sql",
   "language": "python",
   "name": "python3"
  },
  "language_info": {
   "name": "python",
   "version": "3.12.11"
  }
 },
 "nbformat": 4,
 "nbformat_minor": 5
}
